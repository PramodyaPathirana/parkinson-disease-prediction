{
  "nbformat": 4,
  "nbformat_minor": 0,
  "metadata": {
    "colab": {
      "name": "18020542.ipynb",
      "provenance": [],
      "collapsed_sections": []
    },
    "kernelspec": {
      "name": "python3",
      "display_name": "Python 3"
    },
    "language_info": {
      "name": "python"
    },
    "accelerator": "GPU"
  },
  "cells": [
    {
      "cell_type": "markdown",
      "metadata": {
        "id": "Ruc9P5Ugq6J9"
      },
      "source": [
        "# **Multivariate Linear Regression**"
      ]
    },
    {
      "cell_type": "markdown",
      "metadata": {
        "id": "GTHzk0dXrUih"
      },
      "source": [
        "\n",
        "*   Selected Dataset: [Parkinson's Telemonitoring Data Set](https://archive.ics.uci.edu/ml/datasets/parkinsons+telemonitoring)\n",
        "*   Objective: Predict the total UPDRS value of people with early-stage Parkinson's disease\n",
        "\n"
      ]
    },
    {
      "cell_type": "code",
      "metadata": {
        "colab": {
          "base_uri": "https://localhost:8080/",
          "height": 224
        },
        "id": "SNecLh0xoG-M",
        "outputId": "0217285e-d720-4b63-c5ad-b14d52b8a39e"
      },
      "source": [
        "#import NumPy, Pandas and matplotlib\n",
        "import numpy as np\n",
        "import pandas as pd\n",
        "import matplotlib.pyplot as plt\n",
        "\n",
        "#load the dataset\n",
        "data = pd.read_csv('parkinsons_updrs.csv')\n",
        "data.head(5)"
      ],
      "execution_count": null,
      "outputs": [
        {
          "output_type": "execute_result",
          "data": {
            "text/html": [
              "<div>\n",
              "<style scoped>\n",
              "    .dataframe tbody tr th:only-of-type {\n",
              "        vertical-align: middle;\n",
              "    }\n",
              "\n",
              "    .dataframe tbody tr th {\n",
              "        vertical-align: top;\n",
              "    }\n",
              "\n",
              "    .dataframe thead th {\n",
              "        text-align: right;\n",
              "    }\n",
              "</style>\n",
              "<table border=\"1\" class=\"dataframe\">\n",
              "  <thead>\n",
              "    <tr style=\"text-align: right;\">\n",
              "      <th></th>\n",
              "      <th>age</th>\n",
              "      <th>test_time</th>\n",
              "      <th>Jitter(%)</th>\n",
              "      <th>Jitter(Abs)</th>\n",
              "      <th>Jitter:RAP</th>\n",
              "      <th>Jitter:PPQ5</th>\n",
              "      <th>Jitter:DDP</th>\n",
              "      <th>Shimmer</th>\n",
              "      <th>Shimmer(dB)</th>\n",
              "      <th>Shimmer:APQ3</th>\n",
              "      <th>Shimmer:APQ5</th>\n",
              "      <th>Shimmer:APQ11</th>\n",
              "      <th>Shimmer:DDA</th>\n",
              "      <th>NHR</th>\n",
              "      <th>HNR</th>\n",
              "      <th>RPDE</th>\n",
              "      <th>DFA</th>\n",
              "      <th>PPE</th>\n",
              "      <th>total_UPDRS</th>\n",
              "    </tr>\n",
              "  </thead>\n",
              "  <tbody>\n",
              "    <tr>\n",
              "      <th>0</th>\n",
              "      <td>72</td>\n",
              "      <td>5.6431</td>\n",
              "      <td>0.00662</td>\n",
              "      <td>0.000034</td>\n",
              "      <td>0.00401</td>\n",
              "      <td>0.00317</td>\n",
              "      <td>0.01204</td>\n",
              "      <td>0.02565</td>\n",
              "      <td>0.230</td>\n",
              "      <td>0.01438</td>\n",
              "      <td>0.01309</td>\n",
              "      <td>0.01662</td>\n",
              "      <td>0.04314</td>\n",
              "      <td>0.014290</td>\n",
              "      <td>21.640</td>\n",
              "      <td>0.41888</td>\n",
              "      <td>0.54842</td>\n",
              "      <td>0.16006</td>\n",
              "      <td>34.398</td>\n",
              "    </tr>\n",
              "    <tr>\n",
              "      <th>1</th>\n",
              "      <td>72</td>\n",
              "      <td>12.6660</td>\n",
              "      <td>0.00300</td>\n",
              "      <td>0.000017</td>\n",
              "      <td>0.00132</td>\n",
              "      <td>0.00150</td>\n",
              "      <td>0.00395</td>\n",
              "      <td>0.02024</td>\n",
              "      <td>0.179</td>\n",
              "      <td>0.00994</td>\n",
              "      <td>0.01072</td>\n",
              "      <td>0.01689</td>\n",
              "      <td>0.02982</td>\n",
              "      <td>0.011112</td>\n",
              "      <td>27.183</td>\n",
              "      <td>0.43493</td>\n",
              "      <td>0.56477</td>\n",
              "      <td>0.10810</td>\n",
              "      <td>34.894</td>\n",
              "    </tr>\n",
              "    <tr>\n",
              "      <th>2</th>\n",
              "      <td>72</td>\n",
              "      <td>19.6810</td>\n",
              "      <td>0.00481</td>\n",
              "      <td>0.000025</td>\n",
              "      <td>0.00205</td>\n",
              "      <td>0.00208</td>\n",
              "      <td>0.00616</td>\n",
              "      <td>0.01675</td>\n",
              "      <td>0.181</td>\n",
              "      <td>0.00734</td>\n",
              "      <td>0.00844</td>\n",
              "      <td>0.01458</td>\n",
              "      <td>0.02202</td>\n",
              "      <td>0.020220</td>\n",
              "      <td>23.047</td>\n",
              "      <td>0.46222</td>\n",
              "      <td>0.54405</td>\n",
              "      <td>0.21014</td>\n",
              "      <td>35.389</td>\n",
              "    </tr>\n",
              "    <tr>\n",
              "      <th>3</th>\n",
              "      <td>72</td>\n",
              "      <td>25.6470</td>\n",
              "      <td>0.00528</td>\n",
              "      <td>0.000027</td>\n",
              "      <td>0.00191</td>\n",
              "      <td>0.00264</td>\n",
              "      <td>0.00573</td>\n",
              "      <td>0.02309</td>\n",
              "      <td>0.327</td>\n",
              "      <td>0.01106</td>\n",
              "      <td>0.01265</td>\n",
              "      <td>0.01963</td>\n",
              "      <td>0.03317</td>\n",
              "      <td>0.027837</td>\n",
              "      <td>24.445</td>\n",
              "      <td>0.48730</td>\n",
              "      <td>0.57794</td>\n",
              "      <td>0.33277</td>\n",
              "      <td>35.810</td>\n",
              "    </tr>\n",
              "    <tr>\n",
              "      <th>4</th>\n",
              "      <td>72</td>\n",
              "      <td>33.6420</td>\n",
              "      <td>0.00335</td>\n",
              "      <td>0.000020</td>\n",
              "      <td>0.00093</td>\n",
              "      <td>0.00130</td>\n",
              "      <td>0.00278</td>\n",
              "      <td>0.01703</td>\n",
              "      <td>0.176</td>\n",
              "      <td>0.00679</td>\n",
              "      <td>0.00929</td>\n",
              "      <td>0.01819</td>\n",
              "      <td>0.02036</td>\n",
              "      <td>0.011625</td>\n",
              "      <td>26.126</td>\n",
              "      <td>0.47188</td>\n",
              "      <td>0.56122</td>\n",
              "      <td>0.19361</td>\n",
              "      <td>36.375</td>\n",
              "    </tr>\n",
              "  </tbody>\n",
              "</table>\n",
              "</div>"
            ],
            "text/plain": [
              "   age  test_time  Jitter(%)  ...      DFA      PPE  total_UPDRS\n",
              "0   72     5.6431    0.00662  ...  0.54842  0.16006       34.398\n",
              "1   72    12.6660    0.00300  ...  0.56477  0.10810       34.894\n",
              "2   72    19.6810    0.00481  ...  0.54405  0.21014       35.389\n",
              "3   72    25.6470    0.00528  ...  0.57794  0.33277       35.810\n",
              "4   72    33.6420    0.00335  ...  0.56122  0.19361       36.375\n",
              "\n",
              "[5 rows x 19 columns]"
            ]
          },
          "metadata": {
            "tags": []
          },
          "execution_count": 56
        }
      ]
    },
    {
      "cell_type": "code",
      "metadata": {
        "id": "zI-j0hFPor5z"
      },
      "source": [
        "#take the min and max of each column\n",
        "mi=data.min()\n",
        "ma=data.max()\n",
        "\n",
        "#take the min and max of output column to unnormalize the prediction data(at the end)\n",
        "min_y = data.iloc[:,18:19].values.min()\n",
        "max_y = data.iloc[:,18:19].values.max()\n",
        "\n",
        "#normalize data\n",
        "data = (data - mi)/(ma - mi)"
      ],
      "execution_count": null,
      "outputs": []
    },
    {
      "cell_type": "code",
      "metadata": {
        "id": "oKY29fLho1db"
      },
      "source": [
        "#set the matrices \n",
        "\n",
        "#column 0 to 17 are taken as independent variables\n",
        "X = data.iloc[:,0:18] \n",
        "\n",
        "# 1 embedded to front and X converted from pandas.core.frame.DataFrame to numpy.ndarray\n",
        "ones = np.ones([X.shape[0],1])\n",
        "X = np.concatenate((ones,X),axis=1)\n",
        "\n",
        "#column 18 is taken as the dependent variable and converted from pandas.core.frame.DataFrame to numpy.ndarray\n",
        "y = data.iloc[:,18:19].values\n",
        "\n",
        "theta = np.zeros([1,19]) #an array of 0s is taken as initial theta\n",
        "\n",
        "#set hyper parameters\n",
        "alpha = 0.09 # Learning rate\n",
        "iters = 1000  # Number of iterations for the gradient descent algorithm\n",
        "\n",
        "#taking the length of y\n",
        "size_of_y = len(y)"
      ],
      "execution_count": null,
      "outputs": []
    },
    {
      "cell_type": "markdown",
      "metadata": {
        "id": "WtI_wxVO3YPF"
      },
      "source": [
        "# Hypothesis Function: g(x)"
      ]
    },
    {
      "cell_type": "code",
      "metadata": {
        "id": "MTGETgwi2ncg"
      },
      "source": [
        "#hypothesis function\n",
        "def hypothesis(theta, X):\n",
        "    return theta*X"
      ],
      "execution_count": null,
      "outputs": []
    },
    {
      "cell_type": "markdown",
      "metadata": {
        "id": "WiEb0-wj3IYa"
      },
      "source": [
        "# Cost Function: J(𝜃)"
      ]
    },
    {
      "cell_type": "code",
      "metadata": {
        "id": "xc5CTw_nqZWM"
      },
      "source": [
        "#cost function\n",
        "def calculateCost(X,y,theta):\n",
        "    temp = np.power(((X @ theta.T)-y),2) #take the squared error \n",
        "    return np.sum(temp)/(2 * len(X)) #sum of all squared errors, divided by 2N"
      ],
      "execution_count": null,
      "outputs": []
    },
    {
      "cell_type": "markdown",
      "metadata": {
        "id": "lAh913rL3LfG"
      },
      "source": [
        "# Gradient Descent Algorithm"
      ]
    },
    {
      "cell_type": "code",
      "metadata": {
        "id": "Zux00CcFqfC1"
      },
      "source": [
        "#Gradient Descent Algorithm\n",
        "def gradientDescent(X,y,theta,iters,alpha):\n",
        "    cost = np.zeros(iters)\n",
        "    for i in range(iters):\n",
        "        theta = theta - (alpha/len(X)) * np.sum(X * (X @ theta.T - y), axis=0)\n",
        "        cost[i] = calculateCost(X, y, theta)\n",
        "    \n",
        "    return theta,cost"
      ],
      "execution_count": null,
      "outputs": []
    },
    {
      "cell_type": "markdown",
      "metadata": {
        "id": "0illBYnpci53"
      },
      "source": [
        "# Training the Model"
      ]
    },
    {
      "cell_type": "code",
      "metadata": {
        "colab": {
          "base_uri": "https://localhost:8080/"
        },
        "id": "YimcgHr13DB6",
        "outputId": "37079a0e-bc4a-4dd7-becb-9c51b3adbdb5"
      },
      "source": [
        "#calculating cost before applying Gradient Descent Algorithm\n",
        "costBeforeGradientDescent = calculateCost(X,y,theta)\n",
        "\n",
        "#running the Gradient Descent Algorithm and cost function\n",
        "optimizedTheta,cost = gradientDescent(X,y,theta,iters,alpha)\n",
        "\n",
        "#calculating cost after applying Gradient Descent Algorithm\n",
        "finalCost = calculateCost(X,y,optimizedTheta)\n",
        "\n",
        "print('Initial Cost = ', costBeforeGradientDescent)\n",
        "print('Final Cost = ', finalCost)\n",
        "print('\\nOptimized theta values:', optimizedTheta)"
      ],
      "execution_count": null,
      "outputs": [
        {
          "output_type": "stream",
          "text": [
            "Initial Cost =  0.13010204258677666\n",
            "Final Cost =  0.02126327278006169\n",
            "\n",
            "Optimized theta values: [[ 0.1806859   0.33441118  0.07133561  0.00461211 -0.01000504  0.00274421\n",
            "  -0.00388552  0.00276686 -0.00259243  0.00273039 -0.01441205 -0.01138688\n",
            "   0.03468153 -0.01441461 -0.03054355 -0.0282465   0.1732504  -0.1511082\n",
            "   0.16125232]]\n"
          ],
          "name": "stdout"
        }
      ]
    },
    {
      "cell_type": "markdown",
      "metadata": {
        "id": "GdoougwT5jFr"
      },
      "source": [
        "So, this after the gradient descent algorithm, the sum of squared error has been reduced to **0.021**. \n",
        "\n",
        "𝜃 values in the final hypothesis: \n",
        "\n",
        ">𝜃0: 0.1806859, 𝜃1: 0.33441118, 𝜃2: 0.07133561, 𝜃3: 0.00461211, 𝜃4: -0.01000504, 𝜃5: 0.00274421, 𝜃6: -0.00388552, 𝜃7: 0.00276686, 𝜃8: -0.00259243, 𝜃9: 0.00273039, 𝜃10: -0.01441205, 𝜃11: -0.01138688, 𝜃12: 0.03468153, 𝜃13: -0.01441461, 𝜃14: -0.03054355, 𝜃15: -0.0282465, 𝜃16:  0.1732504, 𝜃17: -0.1511082, 𝜃18:  0.16125232\n",
        "\n"
      ]
    },
    {
      "cell_type": "markdown",
      "metadata": {
        "id": "u7k7bpi7cQae"
      },
      "source": [
        "# Convergence"
      ]
    },
    {
      "cell_type": "code",
      "metadata": {
        "id": "1WX-oiSpqqIL",
        "colab": {
          "base_uri": "https://localhost:8080/",
          "height": 421
        },
        "outputId": "548a5ce0-3cb0-413d-af87-5965aa8d2a42"
      },
      "source": [
        "#plotting the convergence graph\n",
        "fig = plt.figure(figsize=(10, 6))\n",
        "ax = fig.add_subplot()\n",
        "ax.plot(np.arange(iters), cost, 'r', color=\"blue\")\n",
        "ax.grid()  \n",
        "ax.set_xlabel('No of Iterations')  \n",
        "ax.set_ylabel('Cost')  \n",
        "ax.set_title('Convergence') "
      ],
      "execution_count": null,
      "outputs": [
        {
          "output_type": "execute_result",
          "data": {
            "text/plain": [
              "Text(0.5, 1.0, 'Convergence')"
            ]
          },
          "metadata": {
            "tags": []
          },
          "execution_count": 63
        },
        {
          "output_type": "display_data",
          "data": {
            "image/png": "[encoded data removed]",
            "text/plain": [
              "<Figure size 720x432 with 1 Axes>"
            ]
          },
          "metadata": {
            "tags": [],
            "needs_background": "light"
          }
        }
      ]
    },
    {
      "cell_type": "markdown",
      "metadata": {
        "id": "-Chvn4I_cDAl"
      },
      "source": [
        "# Testing the Model"
      ]
    },
    {
      "cell_type": "code",
      "metadata": {
        "id": "rxxrIBBJ9bBg"
      },
      "source": [
        "#predict the output using the model\n",
        "y_pred = hypothesis(optimizedTheta,X)\n",
        "y_pred = np.sum(y_pred, axis=1)\n",
        "\n",
        "y_matrix = np.ravel(y)"
      ],
      "execution_count": null,
      "outputs": []
    },
    {
      "cell_type": "code",
      "metadata": {
        "id": "5qtJ_2b8G956",
        "colab": {
          "base_uri": "https://localhost:8080/",
          "height": 404
        },
        "outputId": "7c38361e-0972-456a-a977-83879a7db13c"
      },
      "source": [
        "#plotting original y and predicted y\n",
        "plt.figure(figsize=(10, 6))\n",
        "plt.scatter(x=np.arange(size_of_y),y=y_matrix, color='orange')  #original output\n",
        "plt.scatter(x=np.arange(size_of_y),y=y_pred, color='green') #predicted output\n",
        "\n",
        "plt.xlabel('Data points')  \n",
        "plt.ylabel('Output')  \n",
        "plt.title('Original Output Vs Predicted Output in Multivariate Linear Regression') \n",
        "\n",
        "labels=['Original Output','Predicted Output']\n",
        "plt.legend(labels)\n",
        "\n",
        "plt.grid()\n",
        "plt.show()"
      ],
      "execution_count": null,
      "outputs": [
        {
          "output_type": "display_data",
          "data": {
            "image/png": "[encoded data removed]",
            "text/plain": [
              "<Figure size 720x432 with 1 Axes>"
            ]
          },
          "metadata": {
            "tags": [],
            "needs_background": "light"
          }
        }
      ]
    },
    {
      "cell_type": "markdown",
      "metadata": {
        "id": "R0HSntoelkEb"
      },
      "source": [
        "# Variation of Convergence for Changing Values of Learning Rate\n",
        "\n",
        "Here the learning rate values are changed to visualize which rate gives the best convergnce"
      ]
    },
    {
      "cell_type": "code",
      "metadata": {
        "id": "CSubo8ilk5Lu",
        "colab": {
          "base_uri": "https://localhost:8080/",
          "height": 421
        },
        "outputId": "ce9bda13-8445-484a-999c-1b47b4738270"
      },
      "source": [
        "optimizedTheta,cost1 = gradientDescent(X,y,theta,iters,0.09)\n",
        "optimizedTheta,cost2 = gradientDescent(X,y,theta,iters,0.05)\n",
        "optimizedTheta,cost3 = gradientDescent(X,y,theta,iters,0.01)\n",
        "optimizedTheta,cost4 = gradientDescent(X,y,theta,iters,0.001)\n",
        "optimizedTheta,cost5 = gradientDescent(X,y,theta,iters,0.0001)\n",
        "\n",
        "fig = plt.figure(figsize=(10, 6))\n",
        "ax = fig.add_subplot()\n",
        "ax.plot(np.arange(iters), cost1, 'r', color=\"blue\", label=\"alpha=0.09\")\n",
        "ax.plot(np.arange(iters), cost2, 'r', color=\"orange\", label=\"alpha=0.05\")\n",
        "ax.plot(np.arange(iters), cost3, 'r', color=\"purple\", label=\"alpha=0.01\")\n",
        "ax.plot(np.arange(iters), cost4, 'r', color=\"green\", label=\"alpha=0.001\")\n",
        "ax.plot(np.arange(iters), cost5, 'r', color=\"red\", label=\"alpha=0.0001\")\n",
        "ax.legend()\n",
        "ax.grid()  \n",
        "ax.set_xlabel('No of Iterations')  \n",
        "ax.set_ylabel('Cost')  \n",
        "ax.set_title('Convergence') "
      ],
      "execution_count": null,
      "outputs": [
        {
          "output_type": "execute_result",
          "data": {
            "text/plain": [
              "Text(0.5, 1.0, 'Convergence')"
            ]
          },
          "metadata": {
            "tags": []
          },
          "execution_count": 66
        },
        {
          "output_type": "display_data",
          "data": {
            "image/png": "[encoded data removed]",
            "text/plain": [
              "<Figure size 720x432 with 1 Axes>"
            ]
          },
          "metadata": {
            "tags": [],
            "needs_background": "light"
          }
        }
      ]
    },
    {
      "cell_type": "markdown",
      "metadata": {
        "id": "fEjJgSN7F_1v"
      },
      "source": [
        "\n",
        "# Prediction\n",
        "Predicting the output (total UPDRS) for test data using the trained model. "
      ]
    },
    {
      "cell_type": "code",
      "metadata": {
        "colab": {
          "base_uri": "https://localhost:8080/",
          "height": 100
        },
        "id": "5N-WX3FtGILB",
        "outputId": "0d764984-7c1d-4987-f115-42ddf65de6aa"
      },
      "source": [
        "#load the test dataset\n",
        "test_data = pd.read_csv('test_data.csv')\n",
        "test_data = test_data.loc[1:]\n",
        "test_data"
      ],
      "execution_count": null,
      "outputs": [
        {
          "output_type": "execute_result",
          "data": {
            "text/html": [
              "<div>\n",
              "<style scoped>\n",
              "    .dataframe tbody tr th:only-of-type {\n",
              "        vertical-align: middle;\n",
              "    }\n",
              "\n",
              "    .dataframe tbody tr th {\n",
              "        vertical-align: top;\n",
              "    }\n",
              "\n",
              "    .dataframe thead th {\n",
              "        text-align: right;\n",
              "    }\n",
              "</style>\n",
              "<table border=\"1\" class=\"dataframe\">\n",
              "  <thead>\n",
              "    <tr style=\"text-align: right;\">\n",
              "      <th></th>\n",
              "      <th>age</th>\n",
              "      <th>test_time</th>\n",
              "      <th>Jitter(%)</th>\n",
              "      <th>Jitter(Abs)</th>\n",
              "      <th>Jitter:RAP</th>\n",
              "      <th>Jitter:PPQ5</th>\n",
              "      <th>Jitter:DDP</th>\n",
              "      <th>Shimmer</th>\n",
              "      <th>Shimmer(dB)</th>\n",
              "      <th>Shimmer:APQ3</th>\n",
              "      <th>Shimmer:APQ5</th>\n",
              "      <th>Shimmer:APQ11</th>\n",
              "      <th>Shimmer:DDA</th>\n",
              "      <th>NHR</th>\n",
              "      <th>HNR</th>\n",
              "      <th>RPDE</th>\n",
              "      <th>DFA</th>\n",
              "      <th>PPE</th>\n",
              "      <th>total_UPDRS</th>\n",
              "    </tr>\n",
              "  </thead>\n",
              "  <tbody>\n",
              "    <tr>\n",
              "      <th>1</th>\n",
              "      <td>72</td>\n",
              "      <td>103.64</td>\n",
              "      <td>0.0053</td>\n",
              "      <td>0.000032</td>\n",
              "      <td>0.00241</td>\n",
              "      <td>0.00231</td>\n",
              "      <td>0.00724</td>\n",
              "      <td>0.02791</td>\n",
              "      <td>0.291</td>\n",
              "      <td>0.0131</td>\n",
              "      <td>0.0126</td>\n",
              "      <td>0.02069</td>\n",
              "      <td>0.0393</td>\n",
              "      <td>0.018093</td>\n",
              "      <td>23.533</td>\n",
              "      <td>0.51577</td>\n",
              "      <td>0.5679</td>\n",
              "      <td>0.21461</td>\n",
              "      <td>0</td>\n",
              "    </tr>\n",
              "  </tbody>\n",
              "</table>\n",
              "</div>"
            ],
            "text/plain": [
              "   age  test_time  Jitter(%)  ...     DFA      PPE  total_UPDRS\n",
              "1   72     103.64     0.0053  ...  0.5679  0.21461            0\n",
              "\n",
              "[1 rows x 19 columns]"
            ]
          },
          "metadata": {
            "tags": []
          },
          "execution_count": 67
        }
      ]
    },
    {
      "cell_type": "code",
      "metadata": {
        "id": "izDdX7Ukvxaw"
      },
      "source": [
        "#normalize the data\n",
        "test_data = (test_data - mi)/(ma - mi)"
      ],
      "execution_count": null,
      "outputs": []
    },
    {
      "cell_type": "code",
      "metadata": {
        "id": "B1dtTubS0mWY"
      },
      "source": [
        "test_data = test_data.iloc[:,0:18] \n",
        "\n",
        "# 1 embedded to front and test_data converted from pandas.core.frame.DataFrame to numpy.ndarray\n",
        "ones = np.ones([test_data.shape[0],1])\n",
        "test_data = np.concatenate((ones,test_data),axis=1)\n",
        "\n",
        "#reshaping the test data matrix \n",
        "test_data = test_data.reshape(19, 1)"
      ],
      "execution_count": null,
      "outputs": []
    },
    {
      "cell_type": "code",
      "metadata": {
        "colab": {
          "base_uri": "https://localhost:8080/"
        },
        "id": "1u1XSDxVOwmD",
        "outputId": "4cc53fe4-8cda-4e3e-949f-84506e180e54"
      },
      "source": [
        "#matrix multiplication with the optimized theta\n",
        "res = np.sum(test_data @ optimizedTheta)\n",
        "\n",
        "res = (res*(max_y - min_y)) + min_y\n",
        "\n",
        "print(\"Predicted total UPDRS:\", res)\n"
      ],
      "execution_count": null,
      "outputs": [
        {
          "output_type": "stream",
          "text": [
            "Predicted total UPDRS: 48.43973985314469\n"
          ],
          "name": "stdout"
        }
      ]
    },
    {
      "cell_type": "markdown",
      "metadata": {
        "id": "jWcGZ-LyFuUp"
      },
      "source": [
        "This test data is the 15th datapoint of the dataset. \n",
        "\n",
        "> Here, the original output value is: **41.657**\n",
        "\n",
        "\n",
        "\n",
        "\n",
        "> Predicted value is: **48.44**\n",
        "\n"
      ]
    }
  ]
}